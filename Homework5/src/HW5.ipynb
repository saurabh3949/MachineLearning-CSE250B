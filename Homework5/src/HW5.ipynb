{
 "cells": [
  {
   "cell_type": "code",
   "execution_count": 170,
   "metadata": {
    "collapsed": false
   },
   "outputs": [],
   "source": [
    "%matplotlib inline\n",
    "import numpy as np\n",
    "from seaborn import plt as plt\n",
    "import collections"
   ]
  },
  {
   "cell_type": "code",
   "execution_count": 3,
   "metadata": {
    "collapsed": true
   },
   "outputs": [],
   "source": [
    "def drawLine2P(x,y,xlims):\n",
    "    xrange = np.arange(xlims[0],xlims[1],0.1)\n",
    "    A = np.vstack([x, np.ones(len(x))]).T\n",
    "    k, b = np.linalg.lstsq(A, y)[0]\n",
    "    plt.plot(xrange, k*xrange + b, 'k', color=\"red\")"
   ]
  },
  {
   "cell_type": "code",
   "execution_count": 135,
   "metadata": {
    "collapsed": true
   },
   "outputs": [],
   "source": [
    "getsign = lambda x: 1 if x >= 0 else -1"
   ]
  },
  {
   "cell_type": "markdown",
   "metadata": {},
   "source": [
    "### Read Data"
   ]
  },
  {
   "cell_type": "code",
   "execution_count": 177,
   "metadata": {
    "collapsed": false
   },
   "outputs": [],
   "source": [
    "X = []\n",
    "Y = []\n",
    "with open(\"../data/data1.txt\") as f:\n",
    "    for line in f:\n",
    "        x1, x2, c = map(float, line.split())\n",
    "        X.append([x1, x2, 1]) # Adding a bias term\n",
    "        Y.append(c)\n",
    "X = np.array(X)\n",
    "Y = np.array(Y)"
   ]
  },
  {
   "cell_type": "markdown",
   "metadata": {},
   "source": [
    "### Training Voting perceptron"
   ]
  },
  {
   "cell_type": "code",
   "execution_count": 158,
   "metadata": {
    "collapsed": false
   },
   "outputs": [],
   "source": [
    "weights_dict = {}\n",
    "scores_dict = {}\n",
    "data = zip(X,y)\n",
    "epochs = 10\n",
    "update = 1\n",
    "\n",
    "weights_dict[update] = np.zeros(3)\n",
    "scores_dict[update] = 0\n",
    "\n",
    "for epoch in xrange(epochs):\n",
    "    np.random.shuffle(data)\n",
    "    for x, y in data:\n",
    "        if getsign(x.dot(weights_dict[update])) != y:\n",
    "            weights_dict[update + 1] = weights_dict[update] + y*x\n",
    "            scores_dict[update + 1] = 1\n",
    "            update += 1\n",
    "        else: # If correctly classified\n",
    "            scores_dict[update] += 1"
   ]
  },
  {
   "cell_type": "markdown",
   "metadata": {},
   "source": [
    "### For averaged perceptron"
   ]
  },
  {
   "cell_type": "code",
   "execution_count": 159,
   "metadata": {
    "collapsed": false
   },
   "outputs": [],
   "source": [
    "weight = np.zeros(3)\n",
    "for key, val in weights_dict.iteritems():\n",
    "    weight += val * scores_dict[key]"
   ]
  },
  {
   "cell_type": "markdown",
   "metadata": {},
   "source": [
    "### Plot the decision boundary"
   ]
  },
  {
   "cell_type": "code",
   "execution_count": 160,
   "metadata": {
    "collapsed": false
   },
   "outputs": [
    {
     "data": {
      "image/png": "[encoded data removed]",
      "text/plain": [
       "<matplotlib.figure.Figure at 0x7f359891c710>"
      ]
     },
     "metadata": {},
     "output_type": "display_data"
    }
   ],
   "source": [
    "x_i = -weight[2] / weight[0]\n",
    "y_i = -weight[2] / weight[1]\n",
    "plt.scatter([x[0] for x,y in data if y==1], [x[1] for x,y in data if y==1], marker=u'o')\n",
    "plt.scatter([x[0] for x,y in data if y==-1], [x[1] for x,y in data if y==-1], marker=u'v',color=\"black\")\n",
    "drawLine2P([x_i,0],[0,y_i],[0,11])"
   ]
  },
  {
   "cell_type": "markdown",
   "metadata": {},
   "source": [
    "### Voting perceptron"
   ]
  },
  {
   "cell_type": "code",
   "execution_count": 161,
   "metadata": {
    "collapsed": true
   },
   "outputs": [],
   "source": [
    "def voting_prediction(x):\n",
    "    \"\"\"\n",
    "    x: List. List of x,y coordinates\n",
    "    \"\"\"\n",
    "    \n",
    "    x = np.concatenate((x,[1]))\n",
    "    return getsign(sum([scores_dict[key]*getsign(val.dot(x)) for key,val in weights_dict.iteritems()]))"
   ]
  },
  {
   "cell_type": "code",
   "execution_count": 162,
   "metadata": {
    "collapsed": false
   },
   "outputs": [
    {
     "data": {
      "image/png": "[encoded data removed]",
      "text/plain": [
       "<matplotlib.figure.Figure at 0x7f3598c43c90>"
      ]
     },
     "metadata": {},
     "output_type": "display_data"
    }
   ],
   "source": [
    "xx, yy = np.meshgrid(np.linspace(0, 12, 100),\n",
    "                     np.linspace(0, 12, 100))\n",
    "plt.xlim(xx.min(), xx.max())\n",
    "plt.ylim(yy.min(), yy.max())\n",
    "\n",
    "#plot background colors\n",
    "ax = plt.gca()\n",
    "Z =np.apply_along_axis(voting_prediction, axis = 1, arr = np.c_[xx.ravel(), yy.ravel()])\n",
    "Z = Z.reshape(xx.shape)\n",
    "cs = ax.contourf(xx, yy, Z, cmap='RdBu', alpha=.5)\n",
    "cs2 = ax.contour(xx, yy, Z, cmap='RdBu', alpha=.5)\n",
    "# plt.clabel(cs2, fmt = '%2.1f', colors = 'k', fontsize=14)\n",
    "\n",
    "# Plot the points\n",
    "# ax.plot(Xtrain[ytrain == 0, 0], Xtrain[ytrain == 0, 1], 'ro', label='Class 1')\n",
    "# ax.plot(Xtrain[ytrain == 1, 0], Xtrain[ytrain == 1, 1], 'bo', label='Class 2')\n",
    "plt.scatter([x[0] for x,y in data if y==1], [x[1] for x,y in data if y==1], marker=u'o')\n",
    "plt.scatter([x[0] for x,y in data if y==-1], [x[1] for x,y in data if y==-1], marker=u'v',color=\"black\")\n",
    "# make legend\n",
    "plt.legend(loc='upper left', scatterpoints=1, numpoints=1)"
   ]
  },
  {
   "cell_type": "markdown",
   "metadata": {
    "collapsed": true
   },
   "source": [
    "### Short Term Memory Perceptron (STMP)"
   ]
  },
  {
   "cell_type": "code",
   "execution_count": 174,
   "metadata": {
    "collapsed": false
   },
   "outputs": [],
   "source": [
    "L = 20\n",
    "weights_dict = collections.deque(maxlen=L)\n",
    "scores_dict = collections.deque(maxlen=L)\n",
    "data = zip(X,y)\n",
    "epochs = 20\n",
    "update = 1\n",
    "\n",
    "weights_dict.append(np.zeros(3))\n",
    "scores_dict.append(0)\n",
    "\n",
    "for epoch in xrange(epochs):\n",
    "    np.random.shuffle(data)\n",
    "    for x, y in data:\n",
    "        if getsign(x.dot(weights_dict[-1])) != y:\n",
    "            weights_dict.append(weights_dict[-1] + y*x)\n",
    "            scores_dict.append(1)\n",
    "            update += 1\n",
    "        else: # If correctly classified\n",
    "            scores_dict[-1] += 1"
   ]
  },
  {
   "cell_type": "code",
   "execution_count": 175,
   "metadata": {
    "collapsed": true
   },
   "outputs": [],
   "source": [
    "def voting_prediction_STMP(x):\n",
    "    \"\"\"\n",
    "    x: List. List of x,y coordinates\n",
    "    \"\"\"\n",
    "    \n",
    "    x = np.concatenate((x,[1]))\n",
    "    return getsign(sum([scores_dict[key]*getsign(val.dot(x)) for key,val in enumerate(weights_dict)]))"
   ]
  },
  {
   "cell_type": "code",
   "execution_count": 176,
   "metadata": {
    "collapsed": false
   },
   "outputs": [
    {
     "data": {
      "image/png": "[encoded data removed]",
      "text/plain": [
       "<matplotlib.figure.Figure at 0x7f359831bf50>"
      ]
     },
     "metadata": {},
     "output_type": "display_data"
    }
   ],
   "source": [
    "xx, yy = np.meshgrid(np.linspace(0, 12, 100),\n",
    "                     np.linspace(0, 12, 100))\n",
    "plt.xlim(xx.min(), xx.max())\n",
    "plt.ylim(yy.min(), yy.max())\n",
    "\n",
    "#plot background colors\n",
    "ax = plt.gca()\n",
    "Z =np.apply_along_axis(voting_prediction_STMP, axis = 1, arr = np.c_[xx.ravel(), yy.ravel()])\n",
    "Z = Z.reshape(xx.shape)\n",
    "cs = ax.contourf(xx, yy, Z, cmap='RdBu', alpha=.5)\n",
    "cs2 = ax.contour(xx, yy, Z, cmap='RdBu', alpha=.5)\n",
    "# plt.clabel(cs2, fmt = '%2.1f', colors = 'k', fontsize=14)\n",
    "\n",
    "# Plot the points\n",
    "# ax.plot(Xtrain[ytrain == 0, 0], Xtrain[ytrain == 0, 1], 'ro', label='Class 1')\n",
    "# ax.plot(Xtrain[ytrain == 1, 0], Xtrain[ytrain == 1, 1], 'bo', label='Class 2')\n",
    "plt.scatter([x[0] for x,y in data if y==1], [x[1] for x,y in data if y==1], marker=u'o')\n",
    "plt.scatter([x[0] for x,y in data if y==-1], [x[1] for x,y in data if y==-1], marker=u'v',color=\"black\")\n",
    "# make legend\n",
    "plt.legend(loc='upper left', scatterpoints=1, numpoints=1)"
   ]
  },
  {
   "cell_type": "markdown",
   "metadata": {},
   "source": [
    "### Averaged Perceptron"
   ]
  },
  {
   "cell_type": "code",
   "execution_count": 183,
   "metadata": {
    "collapsed": true
   },
   "outputs": [],
   "source": [
    "running_sum = np.zeros(3)\n",
    "data = zip(X,Y)\n",
    "epochs = 10\n",
    "weight = np.zeros(3)\n",
    "score = 0\n",
    "\n",
    "for epoch in xrange(epochs):\n",
    "    np.random.shuffle(data)\n",
    "    for x, y in data:\n",
    "        if getsign(x.dot(weight)) != y:\n",
    "            running_sum += score * weight\n",
    "            weight= weight + y*x\n",
    "            score = 1\n",
    "\n",
    "        else: # If correctly classified\n",
    "            score += 1"
   ]
  },
  {
   "cell_type": "code",
   "execution_count": 184,
   "metadata": {
    "collapsed": true
   },
   "outputs": [],
   "source": [
    "def average_voting_prediction(x):\n",
    "    \"\"\"\n",
    "    x: List. List of x,y coordinates\n",
    "    \"\"\"\n",
    "    \n",
    "    x = np.concatenate((x,[1]))\n",
    "    if weight.dot(x) >= 0:\n",
    "        return 1\n",
    "    else:\n",
    "        return -1"
   ]
  },
  {
   "cell_type": "code",
   "execution_count": 185,
   "metadata": {
    "collapsed": false
   },
   "outputs": [
    {
     "data": {
      "image/png": "[encoded data removed]",
      "text/plain": [
       "<matplotlib.figure.Figure at 0x7f359832fdd0>"
      ]
     },
     "metadata": {},
     "output_type": "display_data"
    }
   ],
   "source": [
    "xx, yy = np.meshgrid(np.linspace(0, 12, 200),\n",
    "                     np.linspace(0, 12, 200))\n",
    "plt.xlim(xx.min(), xx.max())\n",
    "plt.ylim(yy.min(), yy.max())\n",
    "\n",
    "#plot background colors\n",
    "ax = plt.gca()\n",
    "Z =np.apply_along_axis(average_voting_prediction, axis = 1, arr = np.c_[xx.ravel(), yy.ravel()])\n",
    "Z = Z.reshape(xx.shape)\n",
    "cs = ax.contourf(xx, yy, Z, cmap='RdBu', alpha=.5)\n",
    "cs2 = ax.contour(xx, yy, Z, cmap='RdBu', alpha=.5)\n",
    "# plt.clabel(cs2, fmt = '%2.1f', colors = 'k', fontsize=14)\n",
    "\n",
    "# Plot the points\n",
    "# ax.plot(Xtrain[ytrain == 0, 0], Xtrain[ytrain == 0, 1], 'ro', label='Class 1')\n",
    "# ax.plot(Xtrain[ytrain == 1, 0], Xtrain[ytrain == 1, 1], 'bo', label='Class 2')\n",
    "plt.scatter([x[0] for x,y in data if y==1], [x[1] for x,y in data if y==1], marker=u'o')\n",
    "plt.scatter([x[0] for x,y in data if y==-1], [x[1] for x,y in data if y==-1], marker=u'v',color=\"black\")\n",
    "# make legend\n",
    "plt.legend(loc='upper left', scatterpoints=1, numpoints=1)"
   ]
  },
  {
   "cell_type": "markdown",
   "metadata": {},
   "source": [
    "### Kernelized Perceptron (Dual form)"
   ]
  },
  {
   "cell_type": "code",
   "execution_count": 220,
   "metadata": {
    "collapsed": true
   },
   "outputs": [],
   "source": [
    "def quad_kernel(x, y):\n",
    "    return np.square(1 + x.dot(y))\n",
    "\n",
    "def rbf_kernel(x, y, sigma = .1):\n",
    "    z = x-y\n",
    "    return np.exp(z.dot(z)/ 2.0 / sigma**2)"
   ]
  },
  {
   "cell_type": "code",
   "execution_count": 211,
   "metadata": {
    "collapsed": false
   },
   "outputs": [
    {
     "name": "stdout",
     "output_type": "stream",
     "text": [
      "Trained! in epochs 4\n"
     ]
    }
   ],
   "source": [
    "data = zip(X,Y)\n",
    "np.random.shuffle(data)\n",
    "\n",
    "epochs = 10\n",
    "weight = collections.defaultdict(lambda: 0)\n",
    "score = 0\n",
    "\n",
    "for epoch in xrange(epochs):\n",
    "    all_correct = True\n",
    "    for index, (x, y) in enumerate(data):\n",
    "        sigma = 0\n",
    "        for key, val in weight.iteritems():\n",
    "            sigma += data[key][1] * val * quad_kernel(data[key][0], x)\n",
    "        if y * sigma < 0 or len(weight) == 0:\n",
    "            weight[index] += 1\n",
    "            all_correct = False\n",
    "    if all_correct == True:\n",
    "        print \"Trained! in epochs\", epoch\n",
    "        break"
   ]
  },
  {
   "cell_type": "code",
   "execution_count": 215,
   "metadata": {
    "collapsed": true
   },
   "outputs": [],
   "source": [
    "def quad_kernel_prediction(x):\n",
    "    \"\"\"\n",
    "    x: List. List of x,y coordinates\n",
    "    \"\"\"\n",
    "    sigma = 0\n",
    "    x = np.concatenate((x,[1]))\n",
    "    for key, val in weight.iteritems():\n",
    "        sigma += data[key][1] * val * quad_kernel(data[key][0], x)\n",
    "    return getsign(sigma)"
   ]
  },
  {
   "cell_type": "code",
   "execution_count": 216,
   "metadata": {
    "collapsed": false
   },
   "outputs": [
    {
     "data": {
      "image/png": "[encoded data removed]",
      "text/plain": [
       "<matplotlib.figure.Figure at 0x7f3598a0c490>"
      ]
     },
     "metadata": {},
     "output_type": "display_data"
    }
   ],
   "source": [
    "xx, yy = np.meshgrid(np.linspace(0, 12, 200),\n",
    "                     np.linspace(0, 12, 200))\n",
    "plt.xlim(xx.min(), xx.max())\n",
    "plt.ylim(yy.min(), yy.max())\n",
    "\n",
    "#plot background colors\n",
    "ax = plt.gca()\n",
    "Z =np.apply_along_axis(quad_kernel_prediction, axis = 1, arr = np.c_[xx.ravel(), yy.ravel()])\n",
    "Z = Z.reshape(xx.shape)\n",
    "cs = ax.contourf(xx, yy, Z, cmap='RdBu', alpha=.5)\n",
    "cs2 = ax.contour(xx, yy, Z, cmap='RdBu', alpha=.5)\n",
    "# plt.clabel(cs2, fmt = '%2.1f', colors = 'k', fontsize=14)\n",
    "\n",
    "# Plot the points\n",
    "# ax.plot(Xtrain[ytrain == 0, 0], Xtrain[ytrain == 0, 1], 'ro', label='Class 1')\n",
    "# ax.plot(Xtrain[ytrain == 1, 0], Xtrain[ytrain == 1, 1], 'bo', label='Class 2')\n",
    "plt.scatter([x[0] for x,y in data if y==1], [x[1] for x,y in data if y==1], marker=u'o')\n",
    "plt.scatter([x[0] for x,y in data if y==-1], [x[1] for x,y in data if y==-1], marker=u'v',color=\"black\")\n",
    "# make legend\n",
    "plt.legend(loc='upper left', scatterpoints=1, numpoints=1)"
   ]
  },
  {
   "cell_type": "code",
   "execution_count": 277,
   "metadata": {
    "collapsed": true
   },
   "outputs": [],
   "source": [
    "data = zip(X,Y)\n",
    "np.random.shuffle(data)\n",
    "\n",
    "epochs = 20\n",
    "weight = collections.defaultdict(lambda: 0)\n",
    "score = 0\n",
    "\n",
    "for epoch in xrange(epochs):\n",
    "    all_correct = True\n",
    "    for index, (x, y) in enumerate(data):\n",
    "        sigma = 0\n",
    "        for key, val in weight.iteritems():\n",
    "            sigma += data[key][1] * val * rbf_kernel(data[key][0], x, .159)\n",
    "        if y * sigma < 0 or len(weight) == 0:\n",
    "            weight[index] += 1\n",
    "            all_correct = False\n",
    "    if all_correct == True:\n",
    "        print \"Trained! in epochs\", epoch\n",
    "        break"
   ]
  },
  {
   "cell_type": "code",
   "execution_count": 279,
   "metadata": {
    "collapsed": true
   },
   "outputs": [],
   "source": [
    "def rbf_kernel_prediction(x):\n",
    "    \"\"\"\n",
    "    x: List. List of x,y coordinates\n",
    "    \"\"\"\n",
    "    sigma = 0\n",
    "    x = np.concatenate((x,[1]))\n",
    "    for key, val in weight.iteritems():\n",
    "        sigma += data[key][1] * val * rbf_kernel(data[key][0], x, .159)\n",
    "    return getsign(sigma)"
   ]
  },
  {
   "cell_type": "code",
   "execution_count": 280,
   "metadata": {
    "collapsed": false
   },
   "outputs": [
    {
     "data": {
      "image/png": "[encoded data removed]",
      "text/plain": [
       "<matplotlib.figure.Figure at 0x7f3598b3b610>"
      ]
     },
     "metadata": {},
     "output_type": "display_data"
    }
   ],
   "source": [
    "xx, yy = np.meshgrid(np.linspace(0, 12, 100),\n",
    "                     np.linspace(0, 12, 100))\n",
    "plt.xlim(xx.min(), xx.max())\n",
    "plt.ylim(yy.min(), yy.max())\n",
    "\n",
    "#plot background colors\n",
    "ax = plt.gca()\n",
    "Z =np.apply_along_axis(rbf_kernel_prediction, axis = 1, arr = np.c_[xx.ravel(), yy.ravel()])\n",
    "Z = Z.reshape(xx.shape)\n",
    "cs = ax.contourf(xx, yy, Z, cmap='RdBu', alpha=.5)\n",
    "cs2 = ax.contour(xx, yy, Z, cmap='RdBu', alpha=.5)\n",
    "# plt.clabel(cs2, fmt = '%2.1f', colors = 'k', fontsize=14)\n",
    "\n",
    "# Plot the points\n",
    "# ax.plot(Xtrain[ytrain == 0, 0], Xtrain[ytrain == 0, 1], 'ro', label='Class 1')\n",
    "# ax.plot(Xtrain[ytrain == 1, 0], Xtrain[ytrain == 1, 1], 'bo', label='Class 2')\n",
    "plt.scatter([x[0] for x,y in data if y==1], [x[1] for x,y in data if y==1], marker=u'o')\n",
    "plt.scatter([x[0] for x,y in data if y==-1], [x[1] for x,y in data if y==-1], marker=u'v',color=\"black\")\n",
    "# make legend\n",
    "plt.legend(loc='upper left', scatterpoints=1, numpoints=1)"
   ]
  },
  {
   "cell_type": "code",
   "execution_count": null,
   "metadata": {
    "collapsed": true
   },
   "outputs": [],
   "source": []
  }
 ],
 "metadata": {
  "kernelspec": {
   "display_name": "Python 2",
   "language": "python",
   "name": "python2"
  },
  "language_info": {
   "codemirror_mode": {
    "name": "ipython",
    "version": 2
   },
   "file_extension": ".py",
   "mimetype": "text/x-python",
   "name": "python",
   "nbconvert_exporter": "python",
   "pygments_lexer": "ipython2",
   "version": "2.7.10"
  }
 },
 "nbformat": 4,
 "nbformat_minor": 0
}
