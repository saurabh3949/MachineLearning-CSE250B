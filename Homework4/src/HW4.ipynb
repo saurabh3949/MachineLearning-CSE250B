{
 "cells": [
  {
   "cell_type": "code",
   "execution_count": 865,
   "metadata": {
    "collapsed": true
   },
   "outputs": [],
   "source": [
    "%matplotlib inline\n",
    "import numpy as np\n",
    "import seaborn as sns"
   ]
  },
  {
   "cell_type": "code",
   "execution_count": 866,
   "metadata": {
    "collapsed": true
   },
   "outputs": [],
   "source": [
    "def drawLine2P(x,y,xlims):\n",
    "    xrange = np.arange(xlims[0],xlims[1],0.1)\n",
    "    A = np.vstack([x, np.ones(len(x))]).T\n",
    "    k, b = np.linalg.lstsq(A, y)[0]\n",
    "    plt.plot(xrange, k*xrange + b, 'k', color=\"red\")"
   ]
  },
  {
   "cell_type": "code",
   "execution_count": 867,
   "metadata": {
    "collapsed": true
   },
   "outputs": [],
   "source": [
    "X = [[2,1,1],\n",
    "     [1,20,1],\n",
    "     [1,5,1],\n",
    "     [4,1,1],\n",
    "     [1,40,1],\n",
    "     [3,30,1]\n",
    "    ]\n",
    "\n",
    "X = np.array(X,dtype=float)\n",
    "y = np.array([-1,-1,-1,1,1,1])\n"
   ]
  },
  {
   "cell_type": "code",
   "execution_count": 868,
   "metadata": {
    "collapsed": false
   },
   "outputs": [
    {
     "name": "stdout",
     "output_type": "stream",
     "text": [
      "Loss = 5.37705899763e-05 in 999 iterations\n"
     ]
    }
   ],
   "source": [
    "theta = np.zeros(X.shape[1])\n",
    "eta = .01 * np.ones(X.shape[1])\n",
    "grad_1 = np.zeros(X.shape[1])\n",
    "grad_2 = np.zeros(X.shape[1])\n",
    "\n",
    "for i in xrange(1000):\n",
    "    delta_theta = X.T.dot(y * 1.0 / (1 + np.exp(y * X.dot(theta))))\n",
    "    grad_1 = grad_2\n",
    "    grad_2 = delta_theta\n",
    "    index1 = grad_1*grad_2 > 0\n",
    "    index2 = grad_1*grad_2 <= 0\n",
    "    eta[index1] += .01\n",
    "    eta[index2] *= .95\n",
    "    old_theta = theta.copy()\n",
    "    theta += eta * delta_theta\n",
    "    loss = np.log(1 + np.exp(-y * X.dot(theta))).sum()\n",
    "    if np.sqrt(((theta-old_theta)**2).sum()) < 1e-4 and i> 5:\n",
    "        break\n",
    "print \"Loss = %s in %s iterations\" % (loss,i)\n",
    "#     print theta"
   ]
  },
  {
   "cell_type": "code",
   "execution_count": 869,
   "metadata": {
    "collapsed": false
   },
   "outputs": [
    {
     "data": {
      "text/plain": [
       "array([-25.18694388, -12.21950711, -36.31773936,   9.92703761,\n",
       "        19.91146922,  38.95996254])"
      ]
     },
     "execution_count": 869,
     "metadata": {},
     "output_type": "execute_result"
    }
   ],
   "source": [
    "X.dot(theta)"
   ]
  },
  {
   "cell_type": "code",
   "execution_count": 870,
   "metadata": {
    "collapsed": false
   },
   "outputs": [
    {
     "data": {
      "text/plain": [
       "array([ 5.12955982,  5.1060815 ,  5.12955965])"
      ]
     },
     "execution_count": 870,
     "metadata": {},
     "output_type": "execute_result"
    }
   ],
   "source": [
    "eta"
   ]
  },
  {
   "cell_type": "code",
   "execution_count": 871,
   "metadata": {
    "collapsed": false
   },
   "outputs": [
    {
     "data": {
      "image/png": "[encoded data removed]",
      "text/plain": [
       "<matplotlib.figure.Figure at 0x7f1b312c07d0>"
      ]
     },
     "metadata": {},
     "output_type": "display_data"
    }
   ],
   "source": [
    "x_i = -theta[2] / theta[0]\n",
    "y_i = -theta[2] / theta[1]\n",
    "sns.plt.scatter(X[:3,0], X[:3,1], marker=u'o')\n",
    "sns.plt.scatter(X[3:,0], X[3:,1], marker=u'v')\n",
    "drawLine2P([x_i,0],[0,y_i],[0,4])"
   ]
  },
  {
   "cell_type": "markdown",
   "metadata": {},
   "source": [
    "### Scale the features now"
   ]
  },
  {
   "cell_type": "code",
   "execution_count": 872,
   "metadata": {
    "collapsed": false
   },
   "outputs": [],
   "source": [
    "X[:,1] /= 10.0"
   ]
  },
  {
   "cell_type": "code",
   "execution_count": 873,
   "metadata": {
    "collapsed": false
   },
   "outputs": [
    {
     "name": "stdout",
     "output_type": "stream",
     "text": [
      "Loss = 0.00408487946169 in 999 iterations\n"
     ]
    }
   ],
   "source": [
    "theta = np.zeros(X.shape[1])\n",
    "\n",
    "eta = .01 * np.ones(X.shape[1])\n",
    "grad_1 = np.zeros(X.shape[1])\n",
    "grad_2 = np.zeros(X.shape[1])\n",
    "\n",
    "for i in xrange(1000):\n",
    "    delta_theta = X.T.dot(y * 1.0 / (1 + np.exp(y * X.dot(theta))))\n",
    "    grad_1 = grad_2\n",
    "    grad_2 = delta_theta\n",
    "    index1 = grad_1*grad_2 > 0\n",
    "    index2 = grad_1*grad_2 <= 0\n",
    "    eta[index1] += .01\n",
    "    eta[index2] *= .95\n",
    "    old_theta = theta.copy()\n",
    "    theta += eta * delta_theta\n",
    "    loss = np.log(1 + np.exp(-y * X.dot(theta))).sum()\n",
    "    if np.sqrt(((theta-old_theta)**2).sum()) < 1e-4 and i> 5:\n",
    "        break\n",
    "print \"Loss = %s in %s iterations\" % (loss,i)\n",
    "#     print theta"
   ]
  },
  {
   "cell_type": "code",
   "execution_count": 874,
   "metadata": {
    "collapsed": false
   },
   "outputs": [
    {
     "data": {
      "image/png": "[encoded data removed]",
      "text/plain": [
       "<matplotlib.figure.Figure at 0x7f1b338c1b90>"
      ]
     },
     "metadata": {},
     "output_type": "display_data"
    }
   ],
   "source": [
    "x_i = -theta[2] / theta[0]\n",
    "y_i = -theta[2] / theta[1]\n",
    "sns.plt.scatter(X[:3,0], X[:3,1], marker=u'o')\n",
    "sns.plt.scatter(X[3:,0], X[3:,1], marker=u'v')\n",
    "drawLine2P([x_i,0],[0,y_i],[0,4])"
   ]
  },
  {
   "cell_type": "markdown",
   "metadata": {},
   "source": [
    "### Generating data now"
   ]
  },
  {
   "cell_type": "code",
   "execution_count": 875,
   "metadata": {
    "collapsed": false
   },
   "outputs": [
    {
     "data": {
      "text/plain": [
       "<matplotlib.collections.PathCollection at 0x7f1b311d3490>"
      ]
     },
     "execution_count": 875,
     "metadata": {},
     "output_type": "execute_result"
    },
    {
     "data": {
      "image/png": "[encoded data removed]",
      "text/plain": [
       "<matplotlib.figure.Figure at 0x7f1b31e7d950>"
      ]
     },
     "metadata": {},
     "output_type": "display_data"
    }
   ],
   "source": [
    "mean = [-2,0]\n",
    "cov = [[3,0], [0,3]]\n",
    "points1 = np.random.multivariate_normal(mean, cov, 100)\n",
    "\n",
    "mean = [2,0]\n",
    "cov = [[3,0], [0,3]]\n",
    "points2 = np.random.multivariate_normal(mean, cov, 100)\n",
    "\n",
    "sns.plt.scatter(points1[:,0], points1[:,1],c=\"blue\")\n",
    "sns.plt.scatter(points2[:,0], points2[:,1],c=\"green\",marker=\"v\")"
   ]
  },
  {
   "cell_type": "code",
   "execution_count": 876,
   "metadata": {
    "collapsed": false
   },
   "outputs": [],
   "source": [
    "X = np.append(points1, points2, axis = 0)\n",
    "X = np.append(X, np.ones((200,1)), axis = 1)\n",
    "y = np.append(np.ones(100), -1*np.ones(100))"
   ]
  },
  {
   "cell_type": "code",
   "execution_count": 877,
   "metadata": {
    "collapsed": false
   },
   "outputs": [
    {
     "name": "stdout",
     "output_type": "stream",
     "text": [
      "Loss = 43.2745276848 in 10 iterations\n"
     ]
    }
   ],
   "source": [
    "theta = np.zeros(X.shape[1])\n",
    "\n",
    "eta = .01 * np.ones(X.shape[1])\n",
    "grad_1 = np.zeros(X.shape[1])\n",
    "grad_2 = np.zeros(X.shape[1])\n",
    "\n",
    "for i in xrange(1000):\n",
    "    delta_theta = X.T.dot(y * 1.0 / (1 + np.exp(y * X.dot(theta))))\n",
    "    grad_1 = grad_2\n",
    "    grad_2 = delta_theta\n",
    "    index1 = grad_1*grad_2 > 0\n",
    "    index2 = grad_1*grad_2 <= 0\n",
    "    eta[index1] += .01\n",
    "    eta[index2] *= .95\n",
    "    old_theta = theta.copy()\n",
    "    theta += eta * delta_theta\n",
    "    loss = np.log(1 + np.exp(-y * X.dot(theta))).sum()\n",
    "    if np.sqrt(((theta-old_theta)**2).sum()) < 1e-4 and i> 5:\n",
    "        break\n",
    "print \"Loss = %s in %s iterations\" % (loss,i)\n",
    "#     print theta"
   ]
  },
  {
   "cell_type": "code",
   "execution_count": 881,
   "metadata": {
    "collapsed": false
   },
   "outputs": [
    {
     "data": {
      "image/png": "[encoded data removed]",
      "text/plain": [
       "<matplotlib.figure.Figure at 0x7f1b31664750>"
      ]
     },
     "metadata": {},
     "output_type": "display_data"
    }
   ],
   "source": [
    "x_i = -theta[2] / theta[0]\n",
    "y_i = -theta[2] / theta[1]\n",
    "sns.plt.scatter(X[:100,0], X[:100,1], marker=u'o')\n",
    "sns.plt.scatter(X[100:,0], X[100:,1], marker=u'v',color=\"black\")\n",
    "drawLine2P([x_i,0],[0,y_i],[-.5,.5])"
   ]
  },
  {
   "cell_type": "code",
   "execution_count": null,
   "metadata": {
    "collapsed": true
   },
   "outputs": [],
   "source": []
  }
 ],
 "metadata": {
  "kernelspec": {
   "display_name": "Python 2",
   "language": "python",
   "name": "python2"
  },
  "language_info": {
   "codemirror_mode": {
    "name": "ipython",
    "version": 2
   },
   "file_extension": ".py",
   "mimetype": "text/x-python",
   "name": "python",
   "nbconvert_exporter": "python",
   "pygments_lexer": "ipython2",
   "version": "2.7.10"
  }
 },
 "nbformat": 4,
 "nbformat_minor": 0
}
